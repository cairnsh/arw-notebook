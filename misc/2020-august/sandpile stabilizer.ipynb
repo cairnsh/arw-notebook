{
 "cells": [
  {
   "cell_type": "code",
   "execution_count": 1,
   "metadata": {},
   "outputs": [],
   "source": [
    "import numpy as np, scipy as sp\n",
    "from matplotlib import pyplot as p\n",
    "import scipy.stats"
   ]
  },
  {
   "cell_type": "code",
   "execution_count": 2,
   "metadata": {},
   "outputs": [],
   "source": [
    "%load_ext cython"
   ]
  },
  {
   "cell_type": "code",
   "execution_count": 3,
   "metadata": {},
   "outputs": [],
   "source": [
    "%load_ext line_profiler\n",
    "import line_profiler"
   ]
  },
  {
   "cell_type": "code",
   "execution_count": 66,
   "metadata": {},
   "outputs": [],
   "source": [
    "%%cython -c=-O3\n",
    "#don't #cython: linetrace=True\n",
    "#don't # distutils: define_macros=CYTHON_TRACE=1\n",
    "# remove \"don't\" above to do the line profiling\n",
    "\n",
    "\"\"\"This module stabilizes sandpile configurations on a line with sinks at both ends.\n",
    "\n",
    "The configurations are described in two different ways.\n",
    "\n",
    "chip format: a list of the number of chips at each site ([0, 0, 0, 0, 0, 1, 1, ...])\n",
    "chip-antichip format:\n",
    "    we imagine that every site starts with one chip, and then provide a length L and two lists [1, 2, 3, ...], [4, 5, 6, ...].\n",
    "    the first one gives locations where an extra chip is added; the second one gives locations where an extra chip is subtracted.\n",
    "\"\"\"\n",
    "\n",
    "import numpy as np\n",
    "\n",
    "cimport numpy as np\n",
    "\n",
    "DEBUG = False\n",
    "\n",
    "class twosandzeros:\n",
    "    def __init__(self, length, twos, zeros):\n",
    "        self.length = length\n",
    "        self.twos = np.array(twos, dtype=int)\n",
    "        self.zeros = np.array(zeros, dtype=int)\n",
    "        self.validator()\n",
    "\n",
    "    def validator(self):\n",
    "        length = self.length\n",
    "        twos = self.twos\n",
    "        zeros = self.zeros\n",
    "        \n",
    "        # make sure that the assumptions of the algorithm are valid because otherwise\n",
    "        # who knows what could happen\n",
    "        if length < 0:\n",
    "            raise AssertionError(\"length must be nonnegative, but it's %d\" % length)\n",
    "        \n",
    "        def firstfalse(array):\n",
    "            if array.size == 0:\n",
    "                # trivially no false\n",
    "                # (and if we don't do this then argmin will raise an exception)\n",
    "                return None\n",
    "            j = np.argmin(array)\n",
    "            return None if array[j] else j\n",
    "        \n",
    "        def validate(name, array):\n",
    "            # make sure they are all between 0 and length\n",
    "            i = firstfalse(np.logical_and(array >= 0, array < length))\n",
    "            if i is not None:\n",
    "                raise AssertionError(\"%s in an invalid position: %d (#%d)\" % (name, array[i], i))\n",
    "            \n",
    "            i = firstfalse(array[:-1] <= array[1:])\n",
    "            if i is not None:\n",
    "                raise AssertionError(\"%ss are not sorted: %d (#%d) > %d (#%d)\" % (name, array[i], i, array[i+1], i+1))\n",
    "        \n",
    "        validate(\"two\", twos)\n",
    "        validate(\"zero\", zeros)\n",
    "\n",
    "    @staticmethod\n",
    "    def fromchip(chiplist):\n",
    "        l = len(chiplist)\n",
    "        chiplist = np.array(chiplist, dtype=int)\n",
    "        al = np.arange(l)\n",
    "        twos = np.repeat(al, np.maximum(0, chiplist - 1))\n",
    "        zeros = np.repeat(al, np.maximum(0, 1 - chiplist))\n",
    "        return twosandzeros(l, twos, zeros)\n",
    "\n",
    "    def tochip(self):\n",
    "        # possibly premature optimization\n",
    "        cdef int i\n",
    "        cdef np.ndarray[int, ndim=1] twos = self.twos\n",
    "        cdef np.ndarray[int, ndim=1] zeros = self.zeros\n",
    "        cdef np.ndarray[int, ndim=1] chip = np.ones(self.length, dtype=np.int)\n",
    "        if DEBUG:\n",
    "            print(twos, zeros)\n",
    "        for i in range(len(twos)):\n",
    "            chip[twos[i]] += 1\n",
    "        for i in range(len(zeros)):\n",
    "            chip[zeros[i]] -= 1\n",
    "        return chip\n",
    "\n",
    "class stabilize:\n",
    "    @staticmethod\n",
    "    def slow(chiplist):\n",
    "        \"A slow implementation of sandpile stabilization for testing.\"\n",
    "        chiplist = np.array(chiplist, dtype=np.int)\n",
    "        cdef int[:] chip = chiplist\n",
    "        cdef int sink_l = 0\n",
    "        cdef int sink_r = 0\n",
    "        cdef int stop = True\n",
    "        cdef int i\n",
    "        while True:\n",
    "            stop = True\n",
    "            for i in range(len(chip)):\n",
    "                if chip[i] > 1:\n",
    "                    chip[i] -= 2\n",
    "                    if i > 0:\n",
    "                        chip[i-1] += 1\n",
    "                    else:\n",
    "                        sink_l += 1\n",
    "                    if i < len(chip) - 1:\n",
    "                        chip[i+1] += 1\n",
    "                    else:\n",
    "                        sink_r += 1\n",
    "                    stop = False\n",
    "            if stop:\n",
    "                break\n",
    "        return chiplist, sink_l, sink_r\n",
    "\n",
    "    @staticmethod\n",
    "    def _fst(twosandzeros):\n",
    "        \"Implementation of the algorithm in Nilsson and Moore's paper.\"\n",
    "        cdef int length = twosandzeros.length\n",
    "        cdef np.ndarray[int, ndim=1] twos = twosandzeros.twos\n",
    "        cdef np.ndarray[int, ndim=1] zeros = twosandzeros.zeros.copy()\n",
    "\n",
    "        # We will store two separate stacks of zeros.\n",
    "        # The first one contains the zeroes that are left of our notional current position.\n",
    "        # Those are stored in zeros[0:zeroptr1].\n",
    "        # The second one contains the zeroes that are right of us, which are stored in zeros[zeroptr2:].\n",
    "        cdef int zeroptr1 = 0\n",
    "        cdef int zeroptr2 = 0\n",
    "\n",
    "        if len(zeros) == 0:\n",
    "            # there are no zeros, but we want to have room for at least one zero\n",
    "            zeros = np.zeros(1, dtype=int)\n",
    "            # but both stacks are still empty\n",
    "            zeroptr1 = 0\n",
    "            zeroptr2 = len(zeros)\n",
    "\n",
    "        cdef int twoptr = 0\n",
    "        cdef int zeroleft, zeroright, newzero\n",
    "        cdef int sink_l = 0\n",
    "        cdef int sink_r = 0\n",
    "\n",
    "        for twoptr in range(len(twos)):\n",
    "            #if DEBUG:\n",
    "            #    print(\"zeros:\", zeros[:zeroptr1], zeros[zeroptr2:])\n",
    "            #    print(\"two:\", twos[twoptr])\n",
    "\n",
    "            if zeroptr2 < zeroptr1:\n",
    "                raise AssertionError(\"pointers are in the wrong order: %d > %d\" % (zeroptr1, zeroptr2))\n",
    "            # if the top zero on the second stack is to our left, move it to the first stack\n",
    "            while zeroptr2 < len(zeros) and twos[twoptr] > zeros[zeroptr2]:\n",
    "                zeros[zeroptr1] = zeros[zeroptr2]\n",
    "                zeroptr1 += 1\n",
    "                zeroptr2 += 1\n",
    "\n",
    "            # now the nearest zeros on both stacks should be to our left and right.\n",
    "            # if there is a zero at our position, we just delete it and go back to the start.\n",
    "            if zeroptr2 < len(zeros) and zeros[zeroptr2] == twos[twoptr]:\n",
    "                zeroptr2 += 1\n",
    "                continue\n",
    "\n",
    "            # otherwise, we pop the nearest zeros off of both of the stacks.\n",
    "            if zeroptr1 > 0:\n",
    "                zeroleft = zeros[zeroptr1 - 1]\n",
    "                # pop\n",
    "                zeroptr1 -= 1\n",
    "            else:\n",
    "                # there are no zeros to the left, so the 'top zero' is the sink on that side.\n",
    "                zeroleft = -1\n",
    "                # a chip will fall into the sink, so we increase sink_l by 1\n",
    "                sink_l += 1\n",
    "\n",
    "            if zeroptr2 < len(zeros):\n",
    "                zeroright = zeros[zeroptr2]\n",
    "                # pop\n",
    "                zeroptr2 += 1\n",
    "            else:\n",
    "                # there are no zeros to the right, so the 'top zero' is the sink on that side.\n",
    "                zeroright = length\n",
    "                # a chip will fall into the sink, so we increase sink_r by 1\n",
    "                sink_r += 1\n",
    "\n",
    "            # add a new zero and push it on the second stack.\n",
    "            # (it may be left of our notional position, so we might be putting it in the wrong stack,\n",
    "            # but this is fine because we will move it to the first stack at the start of the loop.)\n",
    "            # the total number of zeros stays the same or decreases UNLESS there are no zeros at all,\n",
    "            # in which case we add one zero. this is why we needed to make room for at least\n",
    "            # one zero.\n",
    "            #if DEBUG:\n",
    "            #    print(\"zlzr:\", zeroleft, zeroright, twos[twoptr])\n",
    "\n",
    "            newzero = zeroleft + zeroright - twos[twoptr]\n",
    "            zeroptr2 -= 1\n",
    "            assert zeroptr2 >= 0\n",
    "            zeros[zeroptr2] = newzero\n",
    "            #if DEBUG:\n",
    "            #    print(\"zeros:\", zeros[:zeroptr1], zeros[zeroptr2:])\n",
    "            #    print()\n",
    "\n",
    "        # combine the stacks\n",
    "        out = np.concatenate([zeros[:zeroptr1], zeros[zeroptr2:]])\n",
    "        return (out, sink_l, sink_r)\n",
    "    \n",
    "    @staticmethod\n",
    "    def fast(chiplist):\n",
    "        twaz = twosandzeros.fromchip(chiplist)\n",
    "        zeros, sink_l, sink_r = stabilize._fst(twaz)\n",
    "        return twosandzeros(twaz.length, [], zeros).tochip(), sink_l, sink_r\n"
   ]
  },
  {
   "cell_type": "code",
   "execution_count": 67,
   "metadata": {},
   "outputs": [
    {
     "name": "stderr",
     "output_type": "stream",
     "text": [
      "test_random_poisson (__main__.TestSand) ... ok\n",
      "test_random_uniform (__main__.TestSand) ... ok\n",
      "test_short (__main__.TestSand) ... ok\n",
      "\n",
      "----------------------------------------------------------------------\n",
      "Ran 3 tests in 5.418s\n",
      "\n",
      "OK\n"
     ]
    },
    {
     "data": {
      "text/plain": [
       "<unittest.main.TestProgram at 0x145f345b8b0>"
      ]
     },
     "execution_count": 67,
     "metadata": {},
     "output_type": "execute_result"
    }
   ],
   "source": [
    "import unittest\n",
    "\n",
    "def check_if_fast_and_slow_are_equal(chip):\n",
    "    fast = stabilize.fast(chip)\n",
    "    slow = stabilize.slow(chip)\n",
    "    return np.all(fast[0] == slow[0]) and fast[1] == slow[1] and fast[2] == slow[2]\n",
    "\n",
    "class TestSand(unittest.TestCase):\n",
    "    def test_short(self):\n",
    "        what = [\n",
    "            [],\n",
    "            [0],\n",
    "            [7],\n",
    "            [0, 2, 0],\n",
    "            [0, 0, 0, 0, 0, 0, 99],\n",
    "            [0, 2, 0, 2],\n",
    "            [2] * 120\n",
    "        ]\n",
    "        for chip in what:\n",
    "            self.assertTrue(check_if_fast_and_slow_are_equal(chip))\n",
    "    \n",
    "    def test_random_uniform(self):\n",
    "        def one():\n",
    "            lent = np.random.randint(0, 400)\n",
    "            maximum = np.random.choice([1, 2, 3])\n",
    "            rand = np.random.randint(0, maximum, lent)\n",
    "            return check_if_fast_and_slow_are_equal(rand)\n",
    "            \n",
    "        for j in range(1000):\n",
    "            self.assertTrue(one())\n",
    "\n",
    "    def test_random_poisson(self):\n",
    "        def one():\n",
    "            lent = np.random.randint(0, 400)\n",
    "            mu = np.random.random() * 2 + 1\n",
    "            rand = np.random.poisson(mu, lent)\n",
    "            return check_if_fast_and_slow_are_equal(rand)\n",
    "            \n",
    "        for j in range(1000):\n",
    "            self.assertTrue(one())\n",
    "\n",
    "unittest.main(argv=[''], verbosity=2, exit=False)"
   ]
  },
  {
   "cell_type": "code",
   "execution_count": 133,
   "metadata": {},
   "outputs": [
    {
     "name": "stdout",
     "output_type": "stream",
     "text": [
      "slow simulator\n"
     ]
    },
    {
     "ename": "KeyboardInterrupt",
     "evalue": "",
     "output_type": "error",
     "traceback": [
      "\u001b[1;31m---------------------------------------------------------------------------\u001b[0m",
      "\u001b[1;31mKeyboardInterrupt\u001b[0m                         Traceback (most recent call last)",
      "\u001b[1;32m<ipython-input-133-a7dc6809e114>\u001b[0m in \u001b[0;36m<module>\u001b[1;34m\u001b[0m\n\u001b[0;32m     11\u001b[0m         \u001b[0mstabilize\u001b[0m\u001b[1;33m.\u001b[0m\u001b[0mslow\u001b[0m\u001b[1;33m(\u001b[0m\u001b[0mrand\u001b[0m\u001b[1;33m)\u001b[0m\u001b[1;33m\u001b[0m\u001b[1;33m\u001b[0m\u001b[0m\n\u001b[0;32m     12\u001b[0m     \u001b[0mprint\u001b[0m\u001b[1;33m(\u001b[0m\u001b[0mtime\u001b[0m\u001b[1;33m.\u001b[0m\u001b[0mtime\u001b[0m\u001b[1;33m(\u001b[0m\u001b[1;33m)\u001b[0m \u001b[1;33m-\u001b[0m \u001b[0mt\u001b[0m\u001b[1;33m)\u001b[0m\u001b[1;33m\u001b[0m\u001b[1;33m\u001b[0m\u001b[0m\n\u001b[1;32m---> 13\u001b[1;33m \u001b[0mslowtest\u001b[0m\u001b[1;33m(\u001b[0m\u001b[1;33m)\u001b[0m\u001b[1;33m\u001b[0m\u001b[1;33m\u001b[0m\u001b[0m\n\u001b[0m\u001b[0;32m     14\u001b[0m \u001b[1;33m\u001b[0m\u001b[0m\n\u001b[0;32m     15\u001b[0m \u001b[0mprint\u001b[0m\u001b[1;33m(\u001b[0m\u001b[1;34m\"fast simulator\"\u001b[0m\u001b[1;33m)\u001b[0m\u001b[1;33m\u001b[0m\u001b[1;33m\u001b[0m\u001b[0m\n",
      "\u001b[1;32m<ipython-input-133-a7dc6809e114>\u001b[0m in \u001b[0;36mslowtest\u001b[1;34m()\u001b[0m\n\u001b[0;32m      9\u001b[0m         \u001b[0mmaximum\u001b[0m \u001b[1;33m=\u001b[0m \u001b[0mnp\u001b[0m\u001b[1;33m.\u001b[0m\u001b[0mrandom\u001b[0m\u001b[1;33m.\u001b[0m\u001b[0mchoice\u001b[0m\u001b[1;33m(\u001b[0m\u001b[1;33m[\u001b[0m\u001b[1;36m2\u001b[0m\u001b[1;33m,\u001b[0m \u001b[1;36m3\u001b[0m\u001b[1;33m,\u001b[0m \u001b[1;36m4\u001b[0m\u001b[1;33m]\u001b[0m\u001b[1;33m)\u001b[0m\u001b[1;33m\u001b[0m\u001b[1;33m\u001b[0m\u001b[0m\n\u001b[0;32m     10\u001b[0m         \u001b[0mrand\u001b[0m \u001b[1;33m=\u001b[0m \u001b[0mnp\u001b[0m\u001b[1;33m.\u001b[0m\u001b[0mrandom\u001b[0m\u001b[1;33m.\u001b[0m\u001b[0mrandint\u001b[0m\u001b[1;33m(\u001b[0m\u001b[1;36m0\u001b[0m\u001b[1;33m,\u001b[0m \u001b[0mmaximum\u001b[0m\u001b[1;33m,\u001b[0m \u001b[0mlent\u001b[0m\u001b[1;33m)\u001b[0m\u001b[1;33m\u001b[0m\u001b[1;33m\u001b[0m\u001b[0m\n\u001b[1;32m---> 11\u001b[1;33m         \u001b[0mstabilize\u001b[0m\u001b[1;33m.\u001b[0m\u001b[0mslow\u001b[0m\u001b[1;33m(\u001b[0m\u001b[0mrand\u001b[0m\u001b[1;33m)\u001b[0m\u001b[1;33m\u001b[0m\u001b[1;33m\u001b[0m\u001b[0m\n\u001b[0m\u001b[0;32m     12\u001b[0m     \u001b[0mprint\u001b[0m\u001b[1;33m(\u001b[0m\u001b[0mtime\u001b[0m\u001b[1;33m.\u001b[0m\u001b[0mtime\u001b[0m\u001b[1;33m(\u001b[0m\u001b[1;33m)\u001b[0m \u001b[1;33m-\u001b[0m \u001b[0mt\u001b[0m\u001b[1;33m)\u001b[0m\u001b[1;33m\u001b[0m\u001b[1;33m\u001b[0m\u001b[0m\n\u001b[0;32m     13\u001b[0m \u001b[0mslowtest\u001b[0m\u001b[1;33m(\u001b[0m\u001b[1;33m)\u001b[0m\u001b[1;33m\u001b[0m\u001b[1;33m\u001b[0m\u001b[0m\n",
      "\u001b[1;31mKeyboardInterrupt\u001b[0m: "
     ]
    }
   ],
   "source": [
    "import time\n",
    "#speed test\n",
    "\n",
    "print(\"slow simulator\")\n",
    "def slowtest():\n",
    "    t = time.time()\n",
    "    for j in range(1000):\n",
    "        lent = np.random.randint(0, 4000)\n",
    "        maximum = np.random.choice([2, 3, 4])\n",
    "        rand = np.random.randint(0, maximum, lent)\n",
    "        stabilize.slow(rand)\n",
    "    print(time.time() - t)\n",
    "slowtest()\n",
    "\n",
    "print(\"fast simulator\")\n",
    "def fasttest():\n",
    "    t = time.time()\n",
    "    for j in range(1000):\n",
    "        lent = np.random.randint(0, 4000)\n",
    "        maximum = np.random.choice([2, 3, 4])\n",
    "        rand = np.random.randint(0, maximum, lent)\n",
    "        stabilize.fast(rand)\n",
    "    print(time.time() - t)\n",
    "fasttest()"
   ]
  },
  {
   "cell_type": "code",
   "execution_count": 163,
   "metadata": {},
   "outputs": [
    {
     "name": "stdout",
     "output_type": "stream",
     "text": [
      "generating a line of length 100000000, probabilities [0.3333333333333333, 0.3333333333333333, 0.3333333333333333]\n",
      "The input density is 1.000033\n"
     ]
    }
   ],
   "source": [
    "# try and stabilize a really long line\n",
    "length = 100000000\n",
    "shift = 0\n",
    "probabilities = [1/3, 1/3 - shift, 1/3 + shift]\n",
    "print(\"generating a line of length %d, probabilities %s\" % (length, probabilities))\n",
    "what = np.random.choice(len(probabilities), length, p=probabilities)\n",
    "print(\"The input density is %f\" % np.mean(what))"
   ]
  },
  {
   "cell_type": "code",
   "execution_count": 164,
   "metadata": {},
   "outputs": [
    {
     "name": "stdout",
     "output_type": "stream",
     "text": [
      "The first part of the input array is\n",
      "[2 1 1 1 1 1 2 0 2 1 1 2 0 1 1 0 1 0 2 0 0 1 0 2 2 2 1 1 0 2 0 1 1 1 0 2 0\n",
      " 2 1 1 0 0 0 0 2 2 0 0 0 0 0 0 1 0 2 2 1 0 0 1 0 0 2 1 0 2 2 0 1 2 0 0 0 2\n",
      " 1 2 1 0 2 1 2 2 1 0 0 0 2 2 1 2]\n"
     ]
    }
   ],
   "source": [
    "print(\"The first part of the input array is\")\n",
    "print(what[:90])"
   ]
  },
  {
   "cell_type": "code",
   "execution_count": 167,
   "metadata": {},
   "outputs": [
    {
     "name": "stdout",
     "output_type": "stream",
     "text": [
      "Calculating stabilization...\n",
      "Stabilized in 3.508701 seconds.\n",
      "The first part of the output array is\n",
      "[1 1 1 1 1 1 1 1 1 1 1 1 1 1 1 1 1 1 1 1 1 1 1 1 1 1 1 1 1 1 1 1 1 1 1 1 1\n",
      " 1 1 1 1 1 1 1 1 1 1 1 1 1 1 1 1 1 1 1 1 1 1 1 1 1 1 1 1 1 1 1 1 1 1 1 1 1\n",
      " 1 1 1 1 1 1 1 1 1 1 1 1 1 1 1 1]\n",
      "4635 chips fell on the left sink and 2519 chips fell on the right sink\n"
     ]
    }
   ],
   "source": [
    "import time\n",
    "t = time.time()\n",
    "print(\"Calculating stabilization...\")\n",
    "out = stabilize.fast(what)\n",
    "print(\"Stabilized in %f seconds.\" % (time.time() - t))\n",
    "print(\"The first part of the output array is\")\n",
    "print(out[0][:90])\n",
    "print(\"%d chips fell on the left sink and %d chips fell on the right sink\" % (out[1], out[2]))\n"
   ]
  },
  {
   "cell_type": "code",
   "execution_count": 166,
   "metadata": {},
   "outputs": [
    {
     "name": "stdout",
     "output_type": "stream",
     "text": [
      "There are 3846 zeros.\n",
      "The density is 0.000038460.\n",
      "Histogram of zero locations:\n"
     ]
    },
    {
     "data": {
      "image/png": "[encoded data removed]",
      "text/plain": [
       "<Figure size 1440x288 with 1 Axes>"
      ]
     },
     "metadata": {
      "needs_background": "light"
     },
     "output_type": "display_data"
    },
    {
     "name": "stdout",
     "output_type": "stream",
     "text": [
      "This is 100 bins each containing 1000000 sites.\n",
      "For comparison, a histogram of random zeros at this density looks like\n"
     ]
    },
    {
     "data": {
      "image/png": "[encoded data removed]",
      "text/plain": [
       "<Figure size 1440x288 with 1 Axes>"
      ]
     },
     "metadata": {
      "needs_background": "light"
     },
     "output_type": "display_data"
    }
   ],
   "source": [
    "zeros = np.where(out[0] == 0)[0]\n",
    "nzeros = len(zeros)\n",
    "if nzeros != 1:\n",
    "    print(\"There are %d zeros.\" % nzeros)\n",
    "else:\n",
    "    print(\"There is one zero.\")\n",
    "print(\"The density is %.9f.\" % (len(zeros) / length))\n",
    "print(\"Histogram of zero locations:\")\n",
    "def hist(it):\n",
    "    number_of_bins = 100\n",
    "    bins = list(range(0, length + 1, length // number_of_bins))\n",
    "    p.figure(figsize=(20, 4))\n",
    "    p.hist(it, bins=bins)\n",
    "    p.show()\n",
    "hist(zeros)\n",
    "print(\"This is %d bins each containing %d sites.\" % (number_of_bins, bins[1] - bins[0]))\n",
    "print(\"For comparison, a histogram of random zeros at this density looks like\")\n",
    "density = len(zeros)/length\n",
    "random_config = np.random.choice(2, length, p=[density, 1-density])\n",
    "random_zeros = np.where(random_config == 0)[0]\n",
    "hist(random_zeros)\n"
   ]
  },
  {
   "cell_type": "code",
   "execution_count": 69,
   "metadata": {},
   "outputs": [
    {
     "name": "stdout",
     "output_type": "stream",
     "text": [
      "0.15915727615356445\n",
      "         65905 function calls in 0.160 seconds\n",
      "\n",
      "   Ordered by: standard name\n",
      "\n",
      "   ncalls  tottime  percall  cumtime  percall filename:lineno(function)\n",
      "     4552    0.003    0.000    0.015    0.000 <__array_function__ internals>:2(argmin)\n",
      "     1000    0.001    0.000    0.003    0.000 <__array_function__ internals>:2(concatenate)\n",
      "     1000    0.001    0.000    0.003    0.000 <__array_function__ internals>:2(copyto)\n",
      "     1000    0.001    0.000    0.012    0.000 <__array_function__ internals>:2(prod)\n",
      "     2000    0.001    0.000    0.025    0.000 <__array_function__ internals>:2(repeat)\n",
      "        1    0.072    0.072    0.160    0.160 <ipython-input-68-6872d1643e50>:16(fasttest)\n",
      "        1    0.000    0.000    0.160    0.160 <string>:1(<module>)\n",
      "     4552    0.001    0.000    0.001    0.000 fromnumeric.py:1191(_argmin_dispatcher)\n",
      "     4552    0.003    0.000    0.010    0.000 fromnumeric.py:1195(argmin)\n",
      "     1000    0.000    0.000    0.000    0.000 fromnumeric.py:2876(_prod_dispatcher)\n",
      "     1000    0.001    0.000    0.010    0.000 fromnumeric.py:2881(prod)\n",
      "     2000    0.000    0.000    0.000    0.000 fromnumeric.py:433(_repeat_dispatcher)\n",
      "     2000    0.001    0.000    0.023    0.000 fromnumeric.py:437(repeat)\n",
      "     6552    0.003    0.000    0.029    0.000 fromnumeric.py:52(_wrapfunc)\n",
      "     1000    0.003    0.000    0.009    0.000 fromnumeric.py:70(_wrapreduction)\n",
      "     1000    0.001    0.000    0.001    0.000 fromnumeric.py:71(<dictcomp>)\n",
      "        3    0.000    0.000    0.000    0.000 iostream.py:197(schedule)\n",
      "        2    0.000    0.000    0.000    0.000 iostream.py:310(_is_master_process)\n",
      "        2    0.000    0.000    0.000    0.000 iostream.py:323(_schedule_flush)\n",
      "        2    0.000    0.000    0.000    0.000 iostream.py:386(write)\n",
      "        3    0.000    0.000    0.000    0.000 iostream.py:93(_event_pipe)\n",
      "     1000    0.000    0.000    0.000    0.000 multiarray.py:1043(copyto)\n",
      "     1000    0.000    0.000    0.000    0.000 multiarray.py:143(concatenate)\n",
      "     1000    0.001    0.000    0.005    0.000 numeric.py:144(ones)\n",
      "        3    0.000    0.000    0.000    0.000 socket.py:357(send)\n",
      "        3    0.000    0.000    0.000    0.000 threading.py:1017(_wait_for_tstate_lock)\n",
      "        3    0.000    0.000    0.000    0.000 threading.py:1071(is_alive)\n",
      "        3    0.000    0.000    0.000    0.000 threading.py:513(is_set)\n",
      "        1    0.000    0.000    0.160    0.160 {built-in method builtins.exec}\n",
      "     7552    0.002    0.000    0.002    0.000 {built-in method builtins.getattr}\n",
      "        2    0.000    0.000    0.000    0.000 {built-in method builtins.isinstance}\n",
      "        1    0.000    0.000    0.000    0.000 {built-in method builtins.print}\n",
      "        2    0.000    0.000    0.000    0.000 {built-in method nt.getpid}\n",
      "     9552    0.007    0.000    0.050    0.000 {built-in method numpy.core._multiarray_umath.implement_array_function}\n",
      "     1000    0.002    0.000    0.002    0.000 {built-in method numpy.empty}\n",
      "        2    0.000    0.000    0.000    0.000 {built-in method time.time}\n",
      "        3    0.000    0.000    0.000    0.000 {method 'acquire' of '_thread.lock' objects}\n",
      "        3    0.000    0.000    0.000    0.000 {method 'append' of 'collections.deque' objects}\n",
      "     4552    0.005    0.000    0.005    0.000 {method 'argmin' of 'numpy.ndarray' objects}\n",
      "     1000    0.008    0.000    0.008    0.000 {method 'choice' of 'numpy.random.mtrand.RandomState' objects}\n",
      "        1    0.000    0.000    0.000    0.000 {method 'disable' of '_lsprof.Profiler' objects}\n",
      "     1000    0.000    0.000    0.000    0.000 {method 'items' of 'dict' objects}\n",
      "     2000    0.020    0.000    0.031    0.000 {method 'randint' of 'numpy.random.mtrand.RandomState' objects}\n",
      "     1000    0.004    0.000    0.004    0.000 {method 'reduce' of 'numpy.ufunc' objects}\n",
      "     2000    0.020    0.000    0.020    0.000 {method 'repeat' of 'numpy.ndarray' objects}\n",
      "\n",
      "\n"
     ]
    }
   ],
   "source": [
    "import cProfile\n",
    "cProfile.run(\"fasttest()\")\n"
   ]
  },
  {
   "cell_type": "code",
   "execution_count": 70,
   "metadata": {},
   "outputs": [
    {
     "data": {
      "text/plain": [
       "array([1., 3., 0., 0.])"
      ]
     },
     "execution_count": 70,
     "metadata": {},
     "output_type": "execute_result"
    }
   ],
   "source": [
    "bar = np.zeros(4)\n",
    "np.add.at(bar, [0, 1, 1, 1], 1)\n",
    "bar"
   ]
  },
  {
   "cell_type": "code",
   "execution_count": 71,
   "metadata": {},
   "outputs": [
    {
     "name": "stdout",
     "output_type": "stream",
     "text": [
      "0.15927457809448242\n",
      "Timer unit: 1e-07 s\n",
      "\n",
      "Total time: 0 s\n",
      "File: C:\\Users\\cola\\.ipython\\cython\\_cython_magic_2b447ae1507445880aeef3a5d3a7188c.pyx\n",
      "Function: fromchip at line 59\n",
      "\n",
      "Line #      Hits         Time  Per Hit   % Time  Line Contents\n",
      "==============================================================\n",
      "    59                                               def fromchip(chiplist):\n",
      "    60                                                   l = len(chiplist)\n",
      "    61                                                   chiplist = np.array(chiplist, dtype=int)\n",
      "    62                                                   al = np.arange(l)\n",
      "    63                                                   twos = np.repeat(al, np.maximum(0, chiplist - 1))\n",
      "    64                                                   zeros = np.repeat(al, np.maximum(0, 1 - chiplist))\n",
      "    65                                                   return twosandzeros(l, twos, zeros)\n",
      "\n"
     ]
    }
   ],
   "source": [
    "profile = line_profiler.LineProfiler(twosandzeros.fromchip)\n",
    "profile.run(\"fasttest()\")\n",
    "profile.print_stats()"
   ]
  },
  {
   "cell_type": "code",
   "execution_count": 72,
   "metadata": {},
   "outputs": [
    {
     "name": "stdout",
     "output_type": "stream",
     "text": [
      "0.1601419448852539\n",
      "Timer unit: 1e-07 s\n",
      "\n",
      "Total time: 0 s\n",
      "File: C:\\Users\\cola\\.ipython\\cython\\_cython_magic_2b447ae1507445880aeef3a5d3a7188c.pyx\n",
      "Function: _fst at line 110\n",
      "\n",
      "Line #      Hits         Time  Per Hit   % Time  Line Contents\n",
      "==============================================================\n",
      "   110                                               def _fst(twosandzeros):\n",
      "   111                                                   \"Implementation of the algorithm in Nilsson and Moore's paper.\"\n",
      "   112                                                   cdef int length = twosandzeros.length\n",
      "   113                                                   cdef np.ndarray[int, ndim=1] twos = twosandzeros.twos\n",
      "   114                                                   cdef np.ndarray[int, ndim=1] zeros = twosandzeros.zeros.copy()\n",
      "   115                                           \n",
      "   116                                                   # We will store two separate stacks of zeros.\n",
      "   117                                                   # The first one contains the zeroes that are left of our notional current position.\n",
      "   118                                                   # Those are stored in zeros[0:zeroptr1].\n",
      "   119                                                   # The second one contains the zeroes that are right of us, which are stored in zeros[zeroptr2:].\n",
      "   120                                                   cdef int zeroptr1 = 0\n",
      "   121                                                   cdef int zeroptr2 = 0\n",
      "   122                                           \n",
      "   123                                                   if len(zeros) == 0:\n",
      "   124                                                       # there are no zeros, but we want to have room for at least one zero\n",
      "   125                                                       zeros = np.zeros(1, dtype=int)\n",
      "   126                                                       # but both stacks are still empty\n",
      "   127                                                       zeroptr1 = 0\n",
      "   128                                                       zeroptr2 = len(zeros)\n",
      "   129                                           \n",
      "   130                                                   cdef int twoptr = 0\n",
      "   131                                                   cdef int zeroleft, zeroright, newzero\n",
      "   132                                                   cdef int sink_l = 0\n",
      "   133                                                   cdef int sink_r = 0\n",
      "   134                                           \n",
      "   135                                                   for twoptr in range(len(twos)):\n",
      "   136                                                       #if DEBUG:\n",
      "   137                                                       #    print(\"zeros:\", zeros[:zeroptr1], zeros[zeroptr2:])\n",
      "   138                                                       #    print(\"two:\", twos[twoptr])\n",
      "   139                                           \n",
      "   140                                                       if zeroptr2 < zeroptr1:\n",
      "   141                                                           raise AssertionError(\"pointers are in the wrong order: %d > %d\" % (zeroptr1, zeroptr2))\n",
      "   142                                                       # if the top zero on the second stack is to our left, move it to the first stack\n",
      "   143                                                       while zeroptr2 < len(zeros) and twos[twoptr] > zeros[zeroptr2]:\n",
      "   144                                                           zeros[zeroptr1] = zeros[zeroptr2]\n",
      "   145                                                           zeroptr1 += 1\n",
      "   146                                                           zeroptr2 += 1\n",
      "   147                                           \n",
      "   148                                                       # now the nearest zeros on both stacks should be to our left and right.\n",
      "   149                                                       # if there is a zero at our position, we just delete it and go back to the start.\n",
      "   150                                                       if zeroptr2 < len(zeros) and zeros[zeroptr2] == twos[twoptr]:\n",
      "   151                                                           zeroptr2 += 1\n",
      "   152                                                           continue\n",
      "   153                                           \n",
      "   154                                                       # otherwise, we pop the nearest zeros off of both of the stacks.\n",
      "   155                                                       if zeroptr1 > 0:\n",
      "   156                                                           zeroleft = zeros[zeroptr1 - 1]\n",
      "   157                                                           # pop\n",
      "   158                                                           zeroptr1 -= 1\n",
      "   159                                                       else:\n",
      "   160                                                           # there are no zeros to the left, so the 'top zero' is the sink on that side.\n",
      "   161                                                           zeroleft = -1\n",
      "   162                                                           # a chip will fall into the sink, so we increase sink_l by 1\n",
      "   163                                                           sink_l += 1\n",
      "   164                                           \n",
      "   165                                                       if zeroptr2 < len(zeros):\n",
      "   166                                                           zeroright = zeros[zeroptr2]\n",
      "   167                                                           # pop\n",
      "   168                                                           zeroptr2 += 1\n",
      "   169                                                       else:\n",
      "   170                                                           # there are no zeros to the right, so the 'top zero' is the sink on that side.\n",
      "   171                                                           zeroright = length\n",
      "   172                                                           # a chip will fall into the sink, so we increase sink_r by 1\n",
      "   173                                                           sink_r += 1\n",
      "   174                                           \n",
      "   175                                                       # add a new zero and push it on the second stack.\n",
      "   176                                                       # (it may be left of our notional position, so we might be putting it in the wrong stack,\n",
      "   177                                                       # but this is fine because we will move it to the first stack at the start of the loop.)\n",
      "   178                                                       # the total number of zeros stays the same or decreases UNLESS there are no zeros at all,\n",
      "   179                                                       # in which case we add one zero. this is why we needed to make room for at least\n",
      "   180                                                       # one zero.\n",
      "   181                                                       #if DEBUG:\n",
      "   182                                                       #    print(\"zlzr:\", zeroleft, zeroright, twos[twoptr])\n",
      "   183                                           \n",
      "   184                                                       newzero = zeroleft + zeroright - twos[twoptr]\n",
      "   185                                                       zeroptr2 -= 1\n",
      "   186                                                       assert zeroptr2 >= 0\n",
      "   187                                                       zeros[zeroptr2] = newzero\n",
      "   188                                                       #if DEBUG:\n",
      "   189                                                       #    print(\"zeros:\", zeros[:zeroptr1], zeros[zeroptr2:])\n",
      "   190                                                       #    print()\n",
      "   191                                           \n",
      "   192                                                   # combine the stacks\n",
      "   193                                                   out = np.concatenate([zeros[:zeroptr1], zeros[zeroptr2:]])\n",
      "   194                                                   return (out, sink_l, sink_r)\n",
      "\n"
     ]
    }
   ],
   "source": [
    "profile = line_profiler.LineProfiler(stabilize._fst)\n",
    "profile.run(\"fasttest()\")\n",
    "profile.print_stats()"
   ]
  },
  {
   "cell_type": "code",
   "execution_count": null,
   "metadata": {},
   "outputs": [],
   "source": []
  }
 ],
 "metadata": {
  "kernelspec": {
   "display_name": "Python 3",
   "language": "python",
   "name": "python3"
  },
  "language_info": {
   "codemirror_mode": {
    "name": "ipython",
    "version": 3
   },
   "file_extension": ".py",
   "mimetype": "text/x-python",
   "name": "python",
   "nbconvert_exporter": "python",
   "pygments_lexer": "ipython3",
   "version": "3.8.5"
  }
 },
 "nbformat": 4,
 "nbformat_minor": 4
}
