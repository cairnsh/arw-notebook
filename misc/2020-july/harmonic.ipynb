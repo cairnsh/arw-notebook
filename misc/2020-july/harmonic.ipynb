{
 "cells": [
  {
   "cell_type": "code",
   "execution_count": 7,
   "metadata": {},
   "outputs": [],
   "source": [
    "import numpy as np, scipy as sp\n",
    "import time\n",
    "import scipy.linalg, scipy.sparse.linalg\n",
    "from flint import fmpq, fmpz, fmpq_mat\n",
    "from mpmath import mp\n",
    "from matplotlib import pyplot as p\n",
    "from importlib import reload"
   ]
  },
  {
   "cell_type": "markdown",
   "metadata": {},
   "source": [
    "Let $J$ be the random variable with $\\mathbb P(J = j) = 1/j(j+1)$.\n",
    "\n",
    "If we currently have $x$ active sites, then one step works like this:\n",
    "* the rightmost active chip falls asleep with probability $q$.\n",
    "* it moves left with probability $(1-q)/2$, and then randomly walks until it returns to the origin. This will wake up $J$ sites to the left of the chip, but $x - 1$ were already awake anyway, so the new number of awake sites is $L \\wedge ((J+1) \\vee x)$.\n",
    "* it moves right with probability $(1-q)/2$, and then randomly walks until it returns to the origin. This wakes up $J$ sites to the left of the chip which were asleep at first, so the number of awake sites is $L \\wedge (J + x)$.\n",
    "\n",
    "Let $T(x) := \\mathbb E_x[\\text{expected time until we hit the origin}]$.\n",
    "We can find it by solving a recurrence:\n",
    "$$T(x) = 1 + qT(x-1) + \\frac12 (1 - q) \\sum {1 \\over j(j+1)} T(L \\wedge ((j+1) \\vee x)) + \\frac12 (1 - q) \\sum {1 \\over j(j+1)} T(L \\wedge (j + x)).$$\n"
   ]
  },
  {
   "cell_type": "code",
   "execution_count": 21,
   "metadata": {},
   "outputs": [
    {
     "name": "stdout",
     "output_type": "stream",
     "text": [
      "The Cython extension is already loaded. To reload it, use:\n",
      "  %reload_ext Cython\n"
     ]
    }
   ],
   "source": [
    "%load_ext Cython"
   ]
  },
  {
   "cell_type": "code",
   "execution_count": 150,
   "metadata": {},
   "outputs": [],
   "source": [
    "%%cython\n",
    "# we do this in an obvious way rather than writing efficient code\n",
    "# but to speed things up a bit, let's use cython\n",
    "\n",
    "import numpy as np\n",
    "\n",
    "cimport numpy as np\n",
    "\n",
    "def solve_time_recurrence(L, q): #(L, q, c, a):\n",
    "    values = np.array([0.] * L + [0.])\n",
    "    for x in range(L, 0, -1):\n",
    "        subtotal = 0\n",
    "        j = 1\n",
    "        while j + x < L:\n",
    "            subtotal += 1/(j*(j+1)) * values[j + x]\n",
    "            j += 1\n",
    "        subtotal += 1/j * values[L]\n",
    "        total = 0.5 * (1-q) * subtotal\n",
    "        \n",
    "        subtotal = 0\n",
    "        if False:\n",
    "            j = 1\n",
    "            while j < L:\n",
    "                subtotal += 1/(j*(j+1)) * values[max(j+1, x)]\n",
    "                j += 1\n",
    "        else:\n",
    "            subtotal = values[x] * (1 - 1/x)\n",
    "            j = x\n",
    "            while j < L:\n",
    "                subtotal += 1/(j*(j+1)) * values[j+1]\n",
    "                j += 1\n",
    "        subtotal += 1/j * values[L]\n",
    "        total += 0.5 * (1-q) * subtotal\n",
    "        \n",
    "        total += 1\n",
    "        \n",
    "        values[x-1] = (values[x] - total) / q\n",
    "    \n",
    "    return values\n",
    "\n",
    "def solve_harmonic_recurrence(L, q): #(L, q, c, a):\n",
    "    values = np.array([0.] * (L-1) + [1., 0.])\n",
    "    for x in range(L-1, 0, -1):\n",
    "        subtotal = 0\n",
    "        j = 1\n",
    "        while j + x < L:\n",
    "            subtotal += 1/(j*(j+1)) * values[j + x]\n",
    "            j += 1\n",
    "        subtotal += 1/j * values[L]\n",
    "        total = 0.5 * (1-q) * subtotal\n",
    "        \n",
    "        subtotal = 0\n",
    "        j = 1\n",
    "        while j < L:\n",
    "            subtotal += 1/(j*(j+1)) * values[max(j+1, x)]\n",
    "            j += 1\n",
    "        subtotal += 1/j * values[L]\n",
    "        total += 0.5 * (1-q) * subtotal\n",
    "        \n",
    "        values[x-1] = (values[x] - total) / q\n",
    "    \n",
    "    return values"
   ]
  },
  {
   "cell_type": "code",
   "execution_count": 158,
   "metadata": {},
   "outputs": [
    {
     "name": "stdout",
     "output_type": "stream",
     "text": [
      "L = 1000    q = 0.775477\n"
     ]
    },
    {
     "data": {
      "image/png": "[encoded data removed]",
      "text/plain": [
       "<Figure size 432x288 with 1 Axes>"
      ]
     },
     "metadata": {
      "needs_background": "light"
     },
     "output_type": "display_data"
    },
    {
     "data": {
      "image/png": "[encoded data removed]",
      "text/plain": [
       "<Figure size 432x288 with 1 Axes>"
      ]
     },
     "metadata": {
      "needs_background": "light"
     },
     "output_type": "display_data"
    }
   ],
   "source": [
    "def plot(L, q):\n",
    "    print(\"L = %d    q = %f\" % (L, q))\n",
    "    z = solve_time_recurrence(L, q)\n",
    "    p.title(\"expected time to reach zero from $x$\")\n",
    "    p.xlabel(\"$x$\")\n",
    "    p.ylabel(\"the time\")\n",
    "    p.plot(z - z[0])\n",
    "    p.show()\n",
    "    p.title(\"harmonic function with $h(L-1) = 1$ and $h(L) = 0$\")\n",
    "    p.xlabel(\"$x$\")\n",
    "    p.ylabel(\"val\")\n",
    "    p.plot(solve_harmonic_recurrence(L, q))\n",
    "    p.show()\n",
    "\n",
    "def criticalq(L):\n",
    "    return 1 - 1/(1 + 0.5 * np.log(L))\n",
    "\n",
    "plot(1000, criticalq(1000))"
   ]
  },
  {
   "cell_type": "code",
   "execution_count": 112,
   "metadata": {},
   "outputs": [
    {
     "name": "stdout",
     "output_type": "stream",
     "text": [
      "q/(1-q) = 1.2 * 0.5 * log L\n",
      "L =    100    q = 0.734262    T / L = 7.188469    T/L/log L = 1.560956\n",
      "L =   1000    q = 0.805623    T / L = 7.313144    T/L/log L = 1.058686\n",
      "L =  10000    q = 0.846772    T / L = 7.294743    T/L/log L = 0.792017\n"
     ]
    }
   ],
   "source": [
    "def eval(L):\n",
    "    q = 1 - 1/(1 + 1.2 * 0.5 * np.log(L))\n",
    "    z = -solve_time_recurrence(L, q)[0]\n",
    "    print(\"L = %6d    q = %6f    T / L = %6f    T/L/log L = %6f\" % (L, q, z/L, z/L/np.log(L)))\n",
    "\n",
    "print(\"q/(1-q) = 1.2 * 0.5 * log L\")\n",
    "\n",
    "eval(100)\n",
    "eval(1000)\n",
    "eval(10000)"
   ]
  },
  {
   "cell_type": "code",
   "execution_count": 111,
   "metadata": {},
   "outputs": [
    {
     "name": "stdout",
     "output_type": "stream",
     "text": [
      "q/(1-q) = 0.5 * log L\n",
      "L =    100    q = 0.697207    T / L = 15.058336    T/L/log L = 3.269876\n",
      "L =   1000    q = 0.775477    T / L = 20.201433    T/L/log L = 2.924457\n",
      "L =  10000    q = 0.821593    T / L = 25.410094    T/L/log L = 2.758866\n"
     ]
    }
   ],
   "source": [
    "def eval(L):\n",
    "    q = 1 - 1/(1 + 0.5 * np.log(L))\n",
    "    z = -solve_time_recurrence(L, q)[0]\n",
    "    print(\"L = %6d    q = %6f    T / L = %6f    T/L/log L = %6f\" % (L, q, z/L, z/L/np.log(L)))\n",
    "\n",
    "print(\"q/(1-q) = 0.5 * log L\")\n",
    "\n",
    "eval(100)\n",
    "eval(1000)\n",
    "eval(10000)"
   ]
  },
  {
   "cell_type": "code",
   "execution_count": 113,
   "metadata": {},
   "outputs": [
    {
     "name": "stdout",
     "output_type": "stream",
     "text": [
      "q/(1-q) = 0.8 * 0.5 * log L\n",
      "L =    100    q = 0.648144    T / L = 70.238395    T/L/log L = 15.252074\n",
      "L =   1000    q = 0.734262    T / L = 403.890609    T/L/log L = 58.469154\n",
      "L =  10000    q = 0.786513    T / L = 5158.183597    T/L/log L = 560.042668\n"
     ]
    }
   ],
   "source": [
    "def eval(L):\n",
    "    q = 1 - 1/(1 + 0.8 * 0.5 * np.log(L))\n",
    "    z = -solve_time_recurrence(L, q)[0]\n",
    "    print(\"L = %6d    q = %6f    T / L = %6f    T/L/log L = %6f\" % (L, q, z/L, z/L/np.log(L)))\n",
    "\n",
    "print(\"q/(1-q) = 0.8 * 0.5 * log L\")\n",
    "\n",
    "eval(100)\n",
    "eval(1000)\n",
    "eval(10000)"
   ]
  },
  {
   "cell_type": "code",
   "execution_count": 126,
   "metadata": {},
   "outputs": [],
   "source": [
    "def make_plot(L):\n",
    "    def what(q):\n",
    "        return -solve_time_recurrence(L, q)[0]\n",
    "    x = np.linspace(0.5, 2, 11)\n",
    "    q = 1 - 1/(1 + x * 0.5 * np.log(L))\n",
    "    y = np.array([what(_) for _ in q])\n",
    "    p.title(\"expected time to reach zero from $L = %d$\" % L)\n",
    "    p.xlabel(\"$c$, where $q/(1-q) = c \\\\times \\\\frac{1}{2}\\\\log L$\")\n",
    "    p.ylim([0, L * 100])\n",
    "    p.plot(x, y)"
   ]
  },
  {
   "cell_type": "code",
   "execution_count": 127,
   "metadata": {},
   "outputs": [
    {
     "data": {
      "image/png": "[encoded data removed]",
      "text/plain": [
       "<Figure size 432x288 with 1 Axes>"
      ]
     },
     "metadata": {
      "needs_background": "light"
     },
     "output_type": "display_data"
    }
   ],
   "source": [
    "make_plot(100)"
   ]
  },
  {
   "cell_type": "code",
   "execution_count": 128,
   "metadata": {},
   "outputs": [
    {
     "data": {
      "image/png": "[encoded data removed]",
      "text/plain": [
       "<Figure size 432x288 with 1 Axes>"
      ]
     },
     "metadata": {
      "needs_background": "light"
     },
     "output_type": "display_data"
    }
   ],
   "source": [
    "make_plot(3000)"
   ]
  },
  {
   "cell_type": "code",
   "execution_count": null,
   "metadata": {},
   "outputs": [],
   "source": [
    "a\n"
   ]
  }
 ],
 "metadata": {
  "kernelspec": {
   "display_name": "Python 3",
   "language": "python",
   "name": "python3"
  },
  "language_info": {
   "codemirror_mode": {
    "name": "ipython",
    "version": 3
   },
   "file_extension": ".py",
   "mimetype": "text/x-python",
   "name": "python",
   "nbconvert_exporter": "python",
   "pygments_lexer": "ipython3",
   "version": "3.8.2"
  }
 },
 "nbformat": 4,
 "nbformat_minor": 4
}
