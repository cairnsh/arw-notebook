{
 "cells": [
  {
   "cell_type": "code",
   "execution_count": 1,
   "metadata": {},
   "outputs": [],
   "source": [
    "import numpy as np, scipy as sp\n",
    "import time\n",
    "from matplotlib import pyplot as p\n",
    "from importlib import reload\n",
    "\n",
    "import scipy.linalg\n",
    "import scipy.integrate"
   ]
  },
  {
   "cell_type": "code",
   "execution_count": 2,
   "metadata": {},
   "outputs": [],
   "source": [
    "# we can get samples of j by floor(1/U) where U is uniform on (0, 1]\n",
    "# floating point isn't perfect but it's close\n",
    "def generateJ(shape):\n",
    "    return np.floor(1/np.random.random(shape)).astype(int)\n",
    "def generate_sum_of_j(count):\n",
    "    return np.sum(generateJ(count))"
   ]
  },
  {
   "cell_type": "code",
   "execution_count": 3,
   "metadata": {},
   "outputs": [],
   "source": [
    "many = 1000000\n",
    "\n",
    "class progressbar:\n",
    "    \"A utility class to show progress on long tasks.\"\n",
    "    def __init__(self):\n",
    "        self.start = False\n",
    "        self.length = 0\n",
    "        \n",
    "    def tell(self, z):\n",
    "        if self.start:\n",
    "            pad = self.length - len(z)\n",
    "            if pad < 0:\n",
    "                pad = 0\n",
    "            print(\"\\r\" + z + \" \" * pad, end=\"\")\n",
    "        else:\n",
    "            print(z, end=\"\")\n",
    "        self.start = True\n",
    "        self.length = len(z)\n",
    "        \n",
    "    def done(self):\n",
    "        print(\"\")\n",
    "\n",
    "def sample(many):\n",
    "    samples = []\n",
    "    count = 100000\n",
    "    t = time.time()\n",
    "    print(\"Generating %d samples of sums of %d independent copies of J\" % (count, many))\n",
    "    b = progressbar()\n",
    "    for j in range(count):\n",
    "        samples.append((generate_sum_of_j(many) - many * np.log(many)) / many)\n",
    "        if time.time() > t + 1:\n",
    "            b.tell(\"%9d/%9d generated\" % (j, count))\n",
    "            t += 1\n",
    "    b.tell(\"%9d/%9d generated\" % (count, count))\n",
    "    b.done()\n",
    "    return samples\n",
    "\n",
    "# cumulative distribution function\n",
    "def cdf(samples):\n",
    "    x = np.sort(samples)\n",
    "    y = np.arange(len(samples)) / len(samples)\n",
    "    #pass\n",
    "    #x = np.concatenate([[0], x])\n",
    "    #y = np.concatenate([[0], y])\n",
    "    p.plot(x, y)"
   ]
  },
  {
   "cell_type": "markdown",
   "metadata": {},
   "source": [
    "We can get rigorous approximations of things like $\\mathbb P(\\mathfrak{J} < x)$ by using the formula\n",
    "$$\\mathbb P(X < x) = \\frac12 - \\frac{1}{2\\pi{i}} \\lim_{B \\to \\infty} \\int_{-B}^{B} \\left({e^{-ix\\theta} \\mathbb E[e^{iX\\theta}] - 1 \\over \\theta}\\right) \\,d\\theta$$\n",
    "<!--$$\\mathbb P(X < x) = \\frac12 - \\frac{1}{2\\pi} \\int_{-\\infty}^{\\infty} \\mathop{\\text{Im}} {e^{-ix\\theta} \\mathbb E[e^{iX\\theta}] \\over \\theta} \\,d\\theta.$$-->\n",
    "\n",
    "It would be nice to evaluate this integral with rigorous bounds for some values like $x = 0$. We can truncate it at e.g. $B = 100$ with very little error because $|\\mathbb E[e^{iX\\theta}]| = e^{-\\pi |\\theta| / 2}$ and $1/\\theta$ cancels out on $[-B,-1] \\cup [1,B]$. There is only a logarithmic singularity at zero, so the numerical integration routines in numpy work okay, but of course the bounds aren't rigorous. Anyway, it's plotted and compared to empirical estimate."
   ]
  },
  {
   "cell_type": "markdown",
   "metadata": {},
   "source": [
    "We compute the integral\n",
    "$$\\mathbb P(\\mathfrak{J} < x) \\approx {1 \\over 2} - {1 \\over 2 \\pi i} \\int_{-100}^{100} {e^{-ix\\theta} \\mathbb E[e^{iX\\theta}] - 1 \\over \\theta} \\,d\\theta = {1 \\over 2} - \\int_{-100}^{100} {1 \\over 2\\pi \\theta} \\mathop{\\text{Im}} (e^{-ix\\theta} \\mathbb E[e^{iX\\theta}] - 1) \\,d\\theta$$\n",
    "\n",
    "In our case, it is\n",
    "$${1 \\over 2} + \\int_0^\\infty {1 \\over \\pi \\theta} e^{-\\pi|\\theta| / 2} \\sin((x + \\log |\\theta|) \\theta) \\,d\\theta.$$"
   ]
  },
  {
   "cell_type": "markdown",
   "metadata": {},
   "source": [
    "#### a general function to compute cdf from cf"
   ]
  },
  {
   "cell_type": "code",
   "execution_count": 7,
   "metadata": {},
   "outputs": [],
   "source": [
    "def cf_to_cdf(cf, x):\n",
    "    \"Given a characteristic function, compute P(X < x) by doing the funky integral.\"\n",
    "    def f(z):\n",
    "        return np.imag(cf(z) * np.exp(-1j*x*z) - cf(0)) / z / 2 / np.pi\n",
    "    left_int, left_err = scipy.integrate.quad(f, -100, 0)\n",
    "    right_int, right_err = scipy.integrate.quad(f, 0, 100)\n",
    "    return 0.5 - (left_int + right_int)\n",
    "\n",
    "class curlyj:\n",
    "    @staticmethod\n",
    "    def cf(theta):\n",
    "        if theta == 0:\n",
    "            return 1\n",
    "        return np.exp(-1j*theta*np.log(-1j*theta))\n",
    "\n",
    "    @staticmethod\n",
    "    def cdf(xx):\n",
    "        return cf_to_cdf(curlyj.cf, xx)\n"
   ]
  },
  {
   "cell_type": "markdown",
   "metadata": {},
   "source": [
    "### The left step"
   ]
  },
  {
   "cell_type": "markdown",
   "metadata": {},
   "source": [
    "We also want to study the leftward step $(J - M) \\vee 0$, because we take steps of the form $(J + 1 - x) \\vee 0$ with probability $\\frac12 (1 - q)$.\n",
    "If $M \\le M'$, then $(J - M') \\vee 0$ is stochastically dominated by $(J - M) \\vee 0$, so we can think that the walk down to $M$ has leftward steps with shift $M$, and this will only bias the walk upward.\n",
    "\n",
    "We have\n",
    "$$\\mathbb E[e^{i\\theta (J - M) \\vee 0}] = {M \\over M + 1} + \\sum_{j=1}^{\\infty} {1 \\over (j+M)(j+M+1)} e^{i\\theta j}.$$\n"
   ]
  },
  {
   "cell_type": "code",
   "execution_count": null,
   "metadata": {},
   "outputs": [],
   "source": []
  },
  {
   "cell_type": "code",
   "execution_count": 655,
   "metadata": {},
   "outputs": [],
   "source": [
    "# we can get samples of j by floor(1/U) where U is uniform on (0, 1]\n",
    "# floating point isn't perfect but it's close\n",
    "def generateJtruncated(shape, M):\n",
    "    return np.maximum(0, np.floor(1/np.random.random(shape)).astype(int) - M)\n",
    "def generate_sum_of_jtruncated(count, M):\n",
    "    return np.sum(generateJtruncated(count, M))\n"
   ]
  },
  {
   "cell_type": "code",
   "execution_count": 697,
   "metadata": {},
   "outputs": [],
   "source": [
    "def sampletr(many, M):\n",
    "    samples = []\n",
    "    count = 100000\n",
    "    t = time.time()\n",
    "    print(\"Generating %d samples of sums of %d independent copies of (J - %d) ∨ 0\" % (count, many, M))\n",
    "    b = progressbar()\n",
    "    for j in range(count):\n",
    "        z = generate_sum_of_jtruncated(many, M)\n",
    "        samples.append((z - many * (np.log(many) - np.log(M) - np.euler_gamma)) / many)\n",
    "        if time.time() > t + 1:\n",
    "            b.tell(\"%9d/%9d generated\" % (j, count))\n",
    "            t += 1\n",
    "    b.tell(\"%9d/%9d generated\" % (count, count))\n",
    "    b.done()\n",
    "    return samples\n"
   ]
  },
  {
   "cell_type": "code",
   "execution_count": 698,
   "metadata": {},
   "outputs": [],
   "source": [
    "import scipy.integrate"
   ]
  },
  {
   "cell_type": "code",
   "execution_count": 699,
   "metadata": {},
   "outputs": [
    {
     "name": "stderr",
     "output_type": "stream",
     "text": [
      "<ipython-input-38-cc77aa20d859>:4: IntegrationWarning: The integral is probably divergent, or slowly convergent.\n",
      "  val, error = scipy.integrate.quad(f, 0, 100)\n"
     ]
    },
    {
     "name": "stdout",
     "output_type": "stream",
     "text": [
      "Generating 100000 samples of sums of 10000 independent copies of (J - 1000) ∨ 0\n",
      "   100000/   100000 generated\n"
     ]
    },
    {
     "data": {
      "image/png": "[encoded data removed]",
      "text/plain": [
       "<Figure size 1152x432 with 1 Axes>"
      ]
     },
     "metadata": {
      "needs_background": "light"
     },
     "output_type": "display_data"
    }
   ],
   "source": [
    "p.figure(figsize=(16, 6))\n",
    "p.xlim([-20, 20])\n",
    "\n",
    "x = np.linspace(-10, 10, 200)\n",
    "y = [jcdf(_) for _ in x]\n",
    "p.plot(x, y)\n",
    "\n",
    "sample = sampletr(10000, 1000)\n",
    "cdf(sample)\n",
    "p.show()"
   ]
  },
  {
   "cell_type": "code",
   "execution_count": 702,
   "metadata": {},
   "outputs": [
    {
     "name": "stderr",
     "output_type": "stream",
     "text": [
      "<ipython-input-38-cc77aa20d859>:4: IntegrationWarning: The integral is probably divergent, or slowly convergent.\n",
      "  val, error = scipy.integrate.quad(f, 0, 100)\n"
     ]
    },
    {
     "name": "stdout",
     "output_type": "stream",
     "text": [
      "Generating 100000 samples of sums of 10000 independent copies of (J - 100) ∨ 0\n",
      "   100000/   100000 generated\n"
     ]
    },
    {
     "data": {
      "image/png": "[encoded data removed]",
      "text/plain": [
       "<Figure size 1152x432 with 1 Axes>"
      ]
     },
     "metadata": {
      "needs_background": "light"
     },
     "output_type": "display_data"
    }
   ],
   "source": [
    "p.figure(figsize=(16, 6))\n",
    "p.xlim([-20, 20])\n",
    "\n",
    "x = np.linspace(-10, 10, 200)\n",
    "y = [jcdf(_) for _ in x]\n",
    "p.plot(x, y)\n",
    "\n",
    "sample = sampletr(10000, 100)\n",
    "cdf(sample)\n",
    "p.show()"
   ]
  },
  {
   "cell_type": "code",
   "execution_count": null,
   "metadata": {},
   "outputs": [],
   "source": []
  }
 ],
 "metadata": {
  "kernelspec": {
   "display_name": "Python 3",
   "language": "python",
   "name": "python3"
  },
  "language_info": {
   "codemirror_mode": {
    "name": "ipython",
    "version": 3
   },
   "file_extension": ".py",
   "mimetype": "text/x-python",
   "name": "python",
   "nbconvert_exporter": "python",
   "pygments_lexer": "ipython3",
   "version": "3.8.2"
  }
 },
 "nbformat": 4,
 "nbformat_minor": 4
}
